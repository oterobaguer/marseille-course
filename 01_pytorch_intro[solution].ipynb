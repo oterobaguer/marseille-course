{
  "nbformat": 4,
  "nbformat_minor": 0,
  "metadata": {
    "kernelspec": {
      "name": "python3",
      "display_name": "Python 3"
    },
    "language_info": {
      "codemirror_mode": {
        "name": "ipython",
        "version": 3
      },
      "file_extension": ".py",
      "mimetype": "text/x-python",
      "name": "python",
      "nbconvert_exporter": "python",
      "pygments_lexer": "ipython3",
      "version": "3.6.8"
    },
    "colab": {
      "name": "01-pytorch-intro.ipynb",
      "provenance": []
    },
    "accelerator": "GPU"
  },
  "cells": [
    {
      "cell_type": "markdown",
      "metadata": {
        "id": "xNWnCfzW-dJh",
        "colab_type": "text"
      },
      "source": [
        "# Introduction to PyTorch"
      ]
    },
    {
      "cell_type": "markdown",
      "metadata": {
        "id": "u3yjUH3J-dJj",
        "colab_type": "text"
      },
      "source": [
        "Python-based scientific computing package for two main purposes:\n",
        "\n",
        "* Replacement for **NumPy** to use the power of GPUs\n",
        "* **Deep learning** research platform that provides maximum flexibility and speed"
      ]
    },
    {
      "cell_type": "markdown",
      "metadata": {
        "id": "QOgiKl7C-dJj",
        "colab_type": "text"
      },
      "source": [
        "### 1) Basic operations"
      ]
    },
    {
      "cell_type": "code",
      "metadata": {
        "id": "iZ-IB6sp-dJk",
        "colab_type": "code",
        "colab": {
          "base_uri": "https://localhost:8080/",
          "height": 121
        },
        "outputId": "ae29837a-2157-4c1f-bc3a-8007568e2f71"
      },
      "source": [
        "import torch\n",
        "import numpy as np\n",
        "\n",
        "\n",
        "x = np.zeros((3, 4))\n",
        "print(x)\n",
        "\n",
        "z = torch.randn(3, 4)\n",
        "print(z)"
      ],
      "execution_count": 34,
      "outputs": [
        {
          "output_type": "stream",
          "text": [
            "[[0. 0. 0. 0.]\n",
            " [0. 0. 0. 0.]\n",
            " [0. 0. 0. 0.]]\n",
            "tensor([[ 1.9677,  1.1586, -0.0767,  0.4587],\n",
            "        [-1.5482, -1.9995,  0.1245, -2.0166],\n",
            "        [ 1.3429,  0.7687,  0.6820, -1.5540]])\n"
          ],
          "name": "stdout"
        }
      ]
    },
    {
      "cell_type": "code",
      "metadata": {
        "id": "bpsOHD1j_b_r",
        "colab_type": "code",
        "colab": {
          "base_uri": "https://localhost:8080/",
          "height": 155
        },
        "outputId": "b7080b8c-591c-4506-a3ab-b4d5e6b197fe"
      },
      "source": [
        "print(3 * z)\n",
        "w = torch.tensor([1.0, 2.0, 3.0, 4.0])\n",
        "print(w)\n",
        "print(z * w)\n",
        "print(torch.matmul(z, w))"
      ],
      "execution_count": 35,
      "outputs": [
        {
          "output_type": "stream",
          "text": [
            "tensor([[ 5.9030,  3.4757, -0.2302,  1.3761],\n",
            "        [-4.6447, -5.9986,  0.3734, -6.0497],\n",
            "        [ 4.0287,  2.3060,  2.0459, -4.6619]])\n",
            "tensor([1., 2., 3., 4.])\n",
            "tensor([[ 1.9677,  2.3172, -0.2302,  1.8348],\n",
            "        [-1.5482, -3.9991,  0.3734, -8.0662],\n",
            "        [ 1.3429,  1.5373,  2.0459, -6.2159]])\n",
            "tensor([  5.8894, -13.2402,  -1.2898])\n"
          ],
          "name": "stdout"
        }
      ]
    },
    {
      "cell_type": "markdown",
      "metadata": {
        "id": "-PS2DiWj-dJm",
        "colab_type": "text"
      },
      "source": [
        "### 2) Bridge to NumPy"
      ]
    },
    {
      "cell_type": "code",
      "metadata": {
        "id": "ptnhe4U4-dJn",
        "colab_type": "code",
        "colab": {
          "base_uri": "https://localhost:8080/",
          "height": 52
        },
        "outputId": "4b140e22-ee94-41f5-eaa6-a6406409f83c"
      },
      "source": [
        "q = w.numpy()\n",
        "print(q)\n",
        "\n",
        "a = torch.tensor(q)\n",
        "print(a)"
      ],
      "execution_count": 36,
      "outputs": [
        {
          "output_type": "stream",
          "text": [
            "[1. 2. 3. 4.]\n",
            "tensor([1., 2., 3., 4.])\n"
          ],
          "name": "stdout"
        }
      ]
    },
    {
      "cell_type": "markdown",
      "metadata": {
        "id": "nPgzdzpL-dJp",
        "colab_type": "text"
      },
      "source": [
        "### 3) Automatic Differentiation"
      ]
    },
    {
      "cell_type": "code",
      "metadata": {
        "id": "5kfayYHQ-dJq",
        "colab_type": "code",
        "colab": {
          "base_uri": "https://localhost:8080/",
          "height": 52
        },
        "outputId": "43828e6e-094a-488d-8773-27f9ab46f816"
      },
      "source": [
        "x = torch.tensor(5.0, requires_grad=True)\n",
        "y = torch.tensor(4.0, requires_grad=True)\n",
        "\n",
        "z = x * y\n",
        "\n",
        "z.backward()\n",
        "\n",
        "print(x.grad)\n",
        "print(y.grad)"
      ],
      "execution_count": 37,
      "outputs": [
        {
          "output_type": "stream",
          "text": [
            "tensor(4.)\n",
            "tensor(5.)\n"
          ],
          "name": "stdout"
        }
      ]
    },
    {
      "cell_type": "code",
      "metadata": {
        "id": "5Po6cVzNEzWN",
        "colab_type": "code",
        "colab": {}
      },
      "source": [
        ""
      ],
      "execution_count": 0,
      "outputs": []
    },
    {
      "cell_type": "markdown",
      "metadata": {
        "id": "CWc7QJdA-dJr",
        "colab_type": "text"
      },
      "source": [
        "### 4) Linear regression example"
      ]
    },
    {
      "cell_type": "code",
      "metadata": {
        "id": "J0PwK6Uu-dJs",
        "colab_type": "code",
        "colab": {
          "base_uri": "https://localhost:8080/",
          "height": 282
        },
        "outputId": "96879973-39b4-491d-e499-f305bcd4ba86"
      },
      "source": [
        "n = 100\n",
        "data_x = torch.randn(n, 1)\n",
        "data_y = 20*torch.sin(data_x*3) + data_x * 5 + 10\n",
        "data_y += torch.randn(data_y.shape)\n",
        "\n",
        "import matplotlib.pyplot as plt\n",
        "plt.scatter(data_x, data_y)"
      ],
      "execution_count": 38,
      "outputs": [
        {
          "output_type": "execute_result",
          "data": {
            "text/plain": [
              "<matplotlib.collections.PathCollection at 0x7f30801df5c0>"
            ]
          },
          "metadata": {
            "tags": []
          },
          "execution_count": 38
        },
        {
          "output_type": "display_data",
          "data": {
            "image/png": "[encoded data removed]",
            "text/plain": [
              "<Figure size 432x288 with 1 Axes>"
            ]
          },
          "metadata": {
            "tags": []
          }
        }
      ]
    },
    {
      "cell_type": "code",
      "metadata": {
        "id": "wh4ECxXPHW5m",
        "colab_type": "code",
        "colab": {
          "base_uri": "https://localhost:8080/",
          "height": 104
        },
        "outputId": "d395cfa6-549f-47d9-a8d7-d071200b2117"
      },
      "source": [
        "import torch.nn as nn\n",
        "\n",
        "class MyModel(nn.Module):\n",
        "  def __init__(self):\n",
        "    super(MyModel, self).__init__()\n",
        "    self.lin1 = nn.Linear(1, 20)\n",
        "    self.non_lin = nn.Tanh()\n",
        "    self.lin2 = nn.Linear(20, 1)\n",
        "\n",
        "  def forward(self, x):\n",
        "    z1 = self.lin1(x)\n",
        "    z2 = self.non_lin(z1) \n",
        "    return self.lin2(z2)\n",
        "\n",
        "\n",
        "model = MyModel()\n",
        "print(model)"
      ],
      "execution_count": 39,
      "outputs": [
        {
          "output_type": "stream",
          "text": [
            "MyModel(\n",
            "  (lin1): Linear(in_features=1, out_features=20, bias=True)\n",
            "  (non_lin): Tanh()\n",
            "  (lin2): Linear(in_features=20, out_features=1, bias=True)\n",
            ")\n"
          ],
          "name": "stdout"
        }
      ]
    },
    {
      "cell_type": "code",
      "metadata": {
        "id": "d6AV_zVGIe6Y",
        "colab_type": "code",
        "colab": {
          "base_uri": "https://localhost:8080/",
          "height": 282
        },
        "outputId": "bff959da-fbdc-46a1-b97a-b23f1cdf076e"
      },
      "source": [
        "plt.scatter(data_x, data_y)\n",
        "plt.scatter(data_x, model(data_x).detach())"
      ],
      "execution_count": 40,
      "outputs": [
        {
          "output_type": "execute_result",
          "data": {
            "text/plain": [
              "<matplotlib.collections.PathCollection at 0x7f30801feba8>"
            ]
          },
          "metadata": {
            "tags": []
          },
          "execution_count": 40
        },
        {
          "output_type": "display_data",
          "data": {
            "image/png": "[encoded data removed]",
            "text/plain": [
              "<Figure size 432x288 with 1 Axes>"
            ]
          },
          "metadata": {
            "tags": []
          }
        }
      ]
    },
    {
      "cell_type": "code",
      "metadata": {
        "id": "PoiS_iwYZ1xE",
        "colab_type": "code",
        "colab": {
          "base_uri": "https://localhost:8080/",
          "height": 34
        },
        "outputId": "6849eb29-f140-4e52-a9e8-2f9a65ce9026"
      },
      "source": [
        "print(torch.cuda.is_available())"
      ],
      "execution_count": 41,
      "outputs": [
        {
          "output_type": "stream",
          "text": [
            "True\n"
          ],
          "name": "stdout"
        }
      ]
    },
    {
      "cell_type": "code",
      "metadata": {
        "id": "wWiXscL4JIy0",
        "colab_type": "code",
        "colab": {
          "base_uri": "https://localhost:8080/",
          "height": 1000
        },
        "outputId": "4ec903cf-1cdf-45ab-e94c-5a2b9a4e322b"
      },
      "source": [
        "from torch.optim import SGD\n",
        "from torch.nn import MSELoss\n",
        "\n",
        "lr = 0.01\n",
        "iterations = 20000\n",
        "\n",
        "optimizer = SGD(model.parameters(), lr=lr)\n",
        "loss_function = MSELoss()\n",
        "\n",
        "device = 'cuda'\n",
        "\n",
        "model.to(device)\n",
        "data_x = data_x.to(device)\n",
        "data_y = data_y.to(device)\n",
        "\n",
        "for i in range(iterations):\n",
        "  optimizer.zero_grad()\n",
        "  loss = loss_function(model(data_x), data_y)\n",
        "  loss.backward()\n",
        "  optimizer.step()\n",
        "  if i % 100 == 0:\n",
        "    print('iter: %d %.5f' % (i, loss.item()))"
      ],
      "execution_count": 42,
      "outputs": [
        {
          "output_type": "stream",
          "text": [
            "iter: 0 386.14328\n",
            "iter: 100 93.71561\n",
            "iter: 200 62.03193\n",
            "iter: 300 42.60267\n",
            "iter: 400 34.36275\n",
            "iter: 500 29.61246\n",
            "iter: 600 26.47130\n",
            "iter: 700 24.28864\n",
            "iter: 800 22.68738\n",
            "iter: 900 21.45460\n",
            "iter: 1000 20.47137\n",
            "iter: 1100 19.66786\n",
            "iter: 1200 18.99996\n",
            "iter: 1300 18.43756\n",
            "iter: 1400 17.95881\n",
            "iter: 1500 17.54709\n",
            "iter: 1600 17.18959\n",
            "iter: 1700 16.87626\n",
            "iter: 1800 16.59924\n",
            "iter: 1900 16.35244\n",
            "iter: 2000 16.13116\n",
            "iter: 2100 15.93168\n",
            "iter: 2200 15.75116\n",
            "iter: 2300 15.58722\n",
            "iter: 2400 15.43797\n",
            "iter: 2500 15.30172\n",
            "iter: 2600 15.17702\n",
            "iter: 2700 15.06248\n",
            "iter: 2800 14.95669\n",
            "iter: 2900 14.85793\n",
            "iter: 3000 14.76331\n",
            "iter: 3100 14.66504\n",
            "iter: 3200 14.51610\n",
            "iter: 3300 13.60255\n",
            "iter: 3400 13.02129\n",
            "iter: 3500 12.33641\n",
            "iter: 3600 11.53482\n",
            "iter: 3700 10.66041\n",
            "iter: 3800 9.76482\n",
            "iter: 3900 8.89191\n",
            "iter: 4000 8.07122\n",
            "iter: 4100 7.31877\n",
            "iter: 4200 6.64067\n",
            "iter: 4300 6.03675\n",
            "iter: 4400 5.50321\n",
            "iter: 4500 5.03435\n",
            "iter: 4600 4.62357\n",
            "iter: 4700 4.26417\n",
            "iter: 4800 3.94962\n",
            "iter: 4900 3.67389\n",
            "iter: 5000 3.43152\n",
            "iter: 5100 3.21770\n",
            "iter: 5200 3.02823\n",
            "iter: 5300 2.85953\n",
            "iter: 5400 2.70857\n",
            "iter: 5500 2.57282\n",
            "iter: 5600 2.45017\n",
            "iter: 5700 2.33888\n",
            "iter: 5800 2.23748\n",
            "iter: 5900 2.14476\n",
            "iter: 6000 2.05971\n",
            "iter: 6100 1.98146\n",
            "iter: 6200 1.90928\n",
            "iter: 6300 1.84254\n",
            "iter: 6400 1.78072\n",
            "iter: 6500 1.72334\n",
            "iter: 6600 1.66999\n",
            "iter: 6700 1.62032\n",
            "iter: 6800 1.57403\n",
            "iter: 6900 1.53082\n",
            "iter: 7000 1.49046\n",
            "iter: 7100 1.45272\n",
            "iter: 7200 1.41741\n",
            "iter: 7300 1.38435\n",
            "iter: 7400 1.35337\n",
            "iter: 7500 1.32433\n",
            "iter: 7600 1.29709\n",
            "iter: 7700 1.27153\n",
            "iter: 7800 1.24754\n",
            "iter: 7900 1.22501\n",
            "iter: 8000 1.20385\n",
            "iter: 8100 1.18397\n",
            "iter: 8200 1.16529\n",
            "iter: 8300 1.14773\n",
            "iter: 8400 1.13121\n",
            "iter: 8500 1.11568\n",
            "iter: 8600 1.10108\n",
            "iter: 8700 1.08734\n",
            "iter: 8800 1.07441\n",
            "iter: 8900 1.06225\n",
            "iter: 9000 1.05080\n",
            "iter: 9100 1.04002\n",
            "iter: 9200 1.02987\n",
            "iter: 9300 1.02031\n",
            "iter: 9400 1.01131\n",
            "iter: 9500 1.00284\n",
            "iter: 9600 0.99485\n",
            "iter: 9700 0.98732\n",
            "iter: 9800 0.98023\n",
            "iter: 9900 0.97355\n",
            "iter: 10000 0.96724\n",
            "iter: 10100 0.96130\n",
            "iter: 10200 0.95569\n",
            "iter: 10300 0.95041\n",
            "iter: 10400 0.94542\n",
            "iter: 10500 0.94071\n",
            "iter: 10600 0.93626\n",
            "iter: 10700 0.93206\n",
            "iter: 10800 0.92809\n",
            "iter: 10900 0.92435\n",
            "iter: 11000 0.92081\n",
            "iter: 11100 0.91746\n",
            "iter: 11200 0.91429\n",
            "iter: 11300 0.91129\n",
            "iter: 11400 0.90845\n",
            "iter: 11500 0.90577\n",
            "iter: 11600 0.90322\n",
            "iter: 11700 0.90081\n",
            "iter: 11800 0.89853\n",
            "iter: 11900 0.89636\n",
            "iter: 12000 0.89430\n",
            "iter: 12100 0.89234\n",
            "iter: 12200 0.89049\n",
            "iter: 12300 0.88873\n",
            "iter: 12400 0.88705\n",
            "iter: 12500 0.88546\n",
            "iter: 12600 0.88394\n",
            "iter: 12700 0.88249\n",
            "iter: 12800 0.88112\n",
            "iter: 12900 0.87980\n",
            "iter: 13000 0.87855\n",
            "iter: 13100 0.87735\n",
            "iter: 13200 0.87621\n",
            "iter: 13300 0.87512\n",
            "iter: 13400 0.87407\n",
            "iter: 13500 0.87307\n",
            "iter: 13600 0.87212\n",
            "iter: 13700 0.87120\n",
            "iter: 13800 0.87032\n",
            "iter: 13900 0.86948\n",
            "iter: 14000 0.86867\n",
            "iter: 14100 0.86789\n",
            "iter: 14200 0.86714\n",
            "iter: 14300 0.86642\n",
            "iter: 14400 0.86573\n",
            "iter: 14500 0.86506\n",
            "iter: 14600 0.86442\n",
            "iter: 14700 0.86380\n",
            "iter: 14800 0.86320\n",
            "iter: 14900 0.86263\n",
            "iter: 15000 0.86207\n",
            "iter: 15100 0.86153\n",
            "iter: 15200 0.86100\n",
            "iter: 15300 0.86050\n",
            "iter: 15400 0.86001\n",
            "iter: 15500 0.85953\n",
            "iter: 15600 0.85907\n",
            "iter: 15700 0.85863\n",
            "iter: 15800 0.85819\n",
            "iter: 15900 0.85777\n",
            "iter: 16000 0.85736\n",
            "iter: 16100 0.85696\n",
            "iter: 16200 0.85657\n",
            "iter: 16300 0.85620\n",
            "iter: 16400 0.85583\n",
            "iter: 16500 0.85547\n",
            "iter: 16600 0.85512\n",
            "iter: 16700 0.85477\n",
            "iter: 16800 0.85444\n",
            "iter: 16900 0.85411\n",
            "iter: 17000 0.85379\n",
            "iter: 17100 0.85348\n",
            "iter: 17200 0.85317\n",
            "iter: 17300 0.85287\n",
            "iter: 17400 0.85258\n",
            "iter: 17500 0.85229\n",
            "iter: 17600 0.85201\n",
            "iter: 17700 0.85173\n",
            "iter: 17800 0.85146\n",
            "iter: 17900 0.85119\n",
            "iter: 18000 0.85093\n",
            "iter: 18100 0.85067\n",
            "iter: 18200 0.85042\n",
            "iter: 18300 0.85017\n",
            "iter: 18400 0.84993\n",
            "iter: 18500 0.84968\n",
            "iter: 18600 0.84945\n",
            "iter: 18700 0.84921\n",
            "iter: 18800 0.84898\n",
            "iter: 18900 0.84875\n",
            "iter: 19000 0.84853\n",
            "iter: 19100 0.84831\n",
            "iter: 19200 0.84809\n",
            "iter: 19300 0.84788\n",
            "iter: 19400 0.84766\n",
            "iter: 19500 0.84745\n",
            "iter: 19600 0.84725\n",
            "iter: 19700 0.84704\n",
            "iter: 19800 0.84684\n",
            "iter: 19900 0.84664\n"
          ],
          "name": "stdout"
        }
      ]
    },
    {
      "cell_type": "code",
      "metadata": {
        "id": "FiqJEBXhKiD1",
        "colab_type": "code",
        "colab": {
          "base_uri": "https://localhost:8080/",
          "height": 282
        },
        "outputId": "27b1345c-c8a0-4306-b6cf-811e76a3d599"
      },
      "source": [
        "plt.scatter(data_x.cpu(), data_y.cpu())\n",
        "plt.scatter(data_x.cpu(), model(data_x).detach().cpu())"
      ],
      "execution_count": 43,
      "outputs": [
        {
          "output_type": "execute_result",
          "data": {
            "text/plain": [
              "<matplotlib.collections.PathCollection at 0x7f308011f470>"
            ]
          },
          "metadata": {
            "tags": []
          },
          "execution_count": 43
        },
        {
          "output_type": "display_data",
          "data": {
            "image/png": "[encoded data removed]",
            "text/plain": [
              "<Figure size 432x288 with 1 Axes>"
            ]
          },
          "metadata": {
            "tags": []
          }
        }
      ]
    },
    {
      "cell_type": "code",
      "metadata": {
        "id": "LKdCCcVULczY",
        "colab_type": "code",
        "colab": {
          "base_uri": "https://localhost:8080/",
          "height": 466
        },
        "outputId": "cedb5853-9d1c-448c-e5e8-7e6f5497d42e"
      },
      "source": [
        "print(model.lin1.bias)\n",
        "print(model.lin1.weight)"
      ],
      "execution_count": 44,
      "outputs": [
        {
          "output_type": "stream",
          "text": [
            "Parameter containing:\n",
            "tensor([ -6.6750,  -7.0717,  -3.2948,  -0.1356,   0.1175,  -1.7668,  -3.7443,\n",
            "          4.1674,   2.0902,   0.2178,   1.8374, -10.9563,   1.1233,  -1.8274,\n",
            "         -5.0508,  -5.0630,   0.0999,   4.7779,   3.0370,   4.2586],\n",
            "       device='cuda:0', requires_grad=True)\n",
            "Parameter containing:\n",
            "tensor([[ 5.3422],\n",
            "        [-3.4501],\n",
            "        [ 4.8940],\n",
            "        [ 4.1453],\n",
            "        [-4.0180],\n",
            "        [-5.5685],\n",
            "        [-4.0495],\n",
            "        [-4.3635],\n",
            "        [-4.4534],\n",
            "        [ 1.9496],\n",
            "        [-3.9773],\n",
            "        [ 5.3740],\n",
            "        [ 2.1721],\n",
            "        [-2.3386],\n",
            "        [ 5.0613],\n",
            "        [-3.8690],\n",
            "        [ 3.7755],\n",
            "        [ 3.9035],\n",
            "        [-4.4958],\n",
            "        [ 4.5690]], device='cuda:0', requires_grad=True)\n"
          ],
          "name": "stdout"
        }
      ]
    }
  ]
}