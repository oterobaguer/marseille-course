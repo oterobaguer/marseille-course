{
 "cells": [
  {
   "cell_type": "markdown",
   "metadata": {},
   "source": [
    "# Introduction to PyTorch"
   ]
  },
  {
   "cell_type": "markdown",
   "metadata": {},
   "source": [
    "Python-based scientific computing package for two main purposes:\n",
    "\n",
    "* Replacement for **NumPy** to use the power of GPUs\n",
    "* **Deep learning** research platform that provides maximum flexibility and speed"
   ]
  },
  {
   "cell_type": "markdown",
   "metadata": {},
   "source": [
    "### 1) Basic operations"
   ]
  },
  {
   "cell_type": "code",
   "execution_count": 7,
   "metadata": {},
   "outputs": [
    {
     "name": "stdout",
     "output_type": "stream",
     "text": [
      "tensor([[0., 0., 0., 0., 0., 0., 0., 0., 0., 0.],\n",
      "        [0., 0., 0., 0., 0., 0., 0., 0., 0., 0.],\n",
      "        [0., 0., 0., 0., 0., 0., 0., 0., 0., 0.],\n",
      "        [0., 0., 0., 0., 0., 0., 0., 0., 0., 0.],\n",
      "        [0., 0., 0., 0., 0., 0., 0., 0., 0., 0.],\n",
      "        [0., 0., 0., 0., 0., 0., 0., 0., 0., 0.],\n",
      "        [0., 0., 0., 0., 0., 0., 0., 0., 0., 0.],\n",
      "        [0., 0., 0., 0., 0., 0., 0., 0., 0., 0.],\n",
      "        [0., 0., 0., 0., 0., 0., 0., 0., 0., 0.],\n",
      "        [0., 0., 0., 0., 0., 0., 0., 0., 0., 0.]])\n"
     ]
    }
   ],
   "source": []
  },
  {
   "cell_type": "markdown",
   "metadata": {},
   "source": [
    "### 2) Bridge to NumPy"
   ]
  },
  {
   "cell_type": "code",
   "execution_count": 15,
   "metadata": {},
   "outputs": [
    {
     "name": "stdout",
     "output_type": "stream",
     "text": [
      "tensor([[ 0.0090,  0.2244, -2.7820, -3.0515, -2.6266],\n",
      "        [ 0.5172,  3.3828,  7.3600, -0.0783,  2.0862],\n",
      "        [-0.4255,  0.2245,  3.3422, -0.3625, -2.5233],\n",
      "        [ 0.8998, -2.9697, -4.6239, -5.1326, -1.9333],\n",
      "        [-1.8328,  1.2856,  0.9813,  3.5541, -0.5959]])\n"
     ]
    }
   ],
   "source": []
  },
  {
   "cell_type": "markdown",
   "metadata": {},
   "source": [
    "### 3) Automatic Differentiation"
   ]
  },
  {
   "cell_type": "code",
   "execution_count": 16,
   "metadata": {},
   "outputs": [
    {
     "name": "stdout",
     "output_type": "stream",
     "text": [
      "tensor([[ 0.0090,  0.2244, -2.7820, -3.0515, -2.6266],\n",
      "        [ 0.5172,  3.3828,  7.3600, -0.0783,  2.0862],\n",
      "        [-0.4255,  0.2245,  3.3422, -0.3625, -2.5233],\n",
      "        [ 0.8998, -2.9697, -4.6239, -5.1326, -1.9333],\n",
      "        [-1.8328,  1.2856,  0.9813,  3.5541, -0.5959]])\n",
      "[[ 0.00898994  0.2244149  -2.78204226 -3.05154252 -2.62659287]\n",
      " [ 0.51723891  3.38282418  7.36004734 -0.07828952  2.0861659 ]\n",
      " [-0.42554346  0.22451614  3.34223557 -0.3624711  -2.52325487]\n",
      " [ 0.89979744 -2.96974921 -4.62394333 -5.1325798  -1.9333322 ]\n",
      " [-1.8328259   1.28560925  0.98127794  3.55407834 -0.59586698]]\n"
     ]
    }
   ],
   "source": []
  },
  {
   "cell_type": "markdown",
   "metadata": {},
   "source": [
    "### 4) Linear regression example"
   ]
  },
  {
   "cell_type": "code",
   "execution_count": 36,
   "metadata": {},
   "outputs": [
    {
     "name": "stdout",
     "output_type": "stream",
     "text": [
      "tensor([1., 2., 3.], requires_grad=True)\n"
     ]
    }
   ],
   "source": []
  },
  {
   "cell_type": "markdown",
   "metadata": {},
   "source": []
  }
 ],
 "metadata": {
  "kernelspec": {
   "display_name": "Python 3",
   "language": "python",
   "name": "python3"
  },
  "language_info": {
   "codemirror_mode": {
    "name": "ipython",
    "version": 3
   },
   "file_extension": ".py",
   "mimetype": "text/x-python",
   "name": "python",
   "nbconvert_exporter": "python",
   "pygments_lexer": "ipython3",
   "version": "3.6.8"
  }
 },
 "nbformat": 4,
 "nbformat_minor": 2
}
